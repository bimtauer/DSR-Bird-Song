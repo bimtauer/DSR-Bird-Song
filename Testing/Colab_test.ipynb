{
 "cells": [
  {
   "cell_type": "code",
   "execution_count": 4,
   "metadata": {
    "colab": {
     "base_uri": "https://localhost:8080/",
     "height": 124
    },
    "colab_type": "code",
    "executionInfo": {
     "elapsed": 34267,
     "status": "ok",
     "timestamp": 1549473827458,
     "user": {
      "displayName": "Tim Bauer",
      "photoUrl": "",
      "userId": "07155029197321677432"
     },
     "user_tz": -60
    },
    "id": "PesGyCGP0cp9",
    "outputId": "c885d258-5e55-4614-821f-799a56c5b418"
   },
   "outputs": [
    {
     "name": "stdout",
     "output_type": "stream",
     "text": [
      "Go to this URL in a browser: https://accounts.google.com/o/oauth2/auth?client_id=947318989803-6bn6qk8qdgf4n4g3pfee6491hc0brc4i.apps.googleusercontent.com&redirect_uri=urn%3Aietf%3Awg%3Aoauth%3A2.0%3Aoob&scope=email%20https%3A%2F%2Fwww.googleapis.com%2Fauth%2Fdocs.test%20https%3A%2F%2Fwww.googleapis.com%2Fauth%2Fdrive%20https%3A%2F%2Fwww.googleapis.com%2Fauth%2Fdrive.photos.readonly%20https%3A%2F%2Fwww.googleapis.com%2Fauth%2Fpeopleapi.readonly&response_type=code\n",
      "\n",
      "Enter your authorization code:\n",
      "··········\n",
      "Mounted at /content/gdrive\n"
     ]
    }
   ],
   "source": [
    "from google.colab import drive\n",
    "drive.mount('/content/gdrive')"
   ]
  },
  {
   "cell_type": "code",
   "execution_count": 0,
   "metadata": {
    "colab": {},
    "colab_type": "code",
    "id": "E4uV9YxJ0pMV"
   },
   "outputs": [],
   "source": []
  },
  {
   "cell_type": "code",
   "execution_count": 0,
   "metadata": {
    "colab": {},
    "colab_type": "code",
    "id": "wheoLh4Oqf9P"
   },
   "outputs": [],
   "source": [
    "import numpy as np\n",
    "import pandas as pd\n",
    "from torch import nn\n",
    "from torch.utils.data import DataLoader\n",
    "import torch\n",
    "import torch.nn.functional as F\n",
    "from sklearn.metrics import accuracy_score, classification_report, log_loss\n",
    "from torch.utils.data import Dataset\n",
    "import PIL\n",
    "import torchvision.transforms as transforms \n",
    "DEVICE = 'cuda' if torch.cuda.is_available() else 'cpu'"
   ]
  },
  {
   "cell_type": "code",
   "execution_count": 0,
   "metadata": {
    "colab": {},
    "colab_type": "code",
    "id": "XFAnOPRmqf9b"
   },
   "outputs": [],
   "source": [
    "###############################################################################\n",
    "# Dataset Class\n",
    "class SpectralDataset(Dataset):\n",
    "    def __init__(self, df):\n",
    "        \n",
    "        self.labels = df.label#.str.get_dummies()    #Possible cause no NaNs\n",
    "        self.paths = df.path\n",
    "        self.transform = transforms.Compose([transforms.ToTensor()])\n",
    "        \n",
    "    def __len__(self):\n",
    "        return len(self.labels)\n",
    "        \n",
    "    def __getitem__(self, i):\n",
    "        #pdb.set_trace()\n",
    "        path = self.paths.iloc[i]\n",
    "        X = self.get_spectogram(path)\n",
    "        y = self.labels.iloc[i]#.values\n",
    "        return X, y\n",
    "    \n",
    "    def get_spectogram(self, path):\n",
    "        slice_ = PIL.Image.open(path)\n",
    "        return self.transform(slice_) #Also normalizes the data\n",
    "    \n",
    "    def collate_func(self, batch):\n",
    "        pass"
   ]
  },
  {
   "cell_type": "code",
   "execution_count": 3,
   "metadata": {
    "colab": {
     "base_uri": "https://localhost:8080/",
     "height": 52
    },
    "colab_type": "code",
    "executionInfo": {
     "elapsed": 4996,
     "status": "ok",
     "timestamp": 1549480607530,
     "user": {
      "displayName": "Tim Bauer",
      "photoUrl": "",
      "userId": "07155029197321677432"
     },
     "user_tz": -60
    },
    "id": "8mRPW4l_03S6",
    "outputId": "89322864-46ba-44cc-e9dd-f5861ad474fd"
   },
   "outputs": [
    {
     "name": "stdout",
     "output_type": "stream",
     "text": [
      "/content/gdrive/My Drive/Colab Notebooks\n",
      "/content/gdrive/My Drive/Colab Notebooks\n"
     ]
    }
   ],
   "source": [
    "\n",
    "%cd /content/gdrive/My\\ Drive/Colab\\ Notebooks\n",
    "!pwd"
   ]
  },
  {
   "cell_type": "code",
   "execution_count": 4,
   "metadata": {
    "colab": {
     "base_uri": "https://localhost:8080/",
     "height": 104
    },
    "colab_type": "code",
    "executionInfo": {
     "elapsed": 3943,
     "status": "ok",
     "timestamp": 1549480607534,
     "user": {
      "displayName": "Tim Bauer",
      "photoUrl": "",
      "userId": "07155029197321677432"
     },
     "user_tz": -60
    },
    "id": "McSntn9Cqf9h",
    "outputId": "3560d258-131e-4505-94e9-5e542a94aa50"
   },
   "outputs": [
    {
     "name": "stderr",
     "output_type": "stream",
     "text": [
      "/usr/local/lib/python3.6/dist-packages/ipykernel_launcher.py:8: SettingWithCopyWarning: \n",
      "A value is trying to be set on a copy of a slice from a DataFrame\n",
      "\n",
      "See the caveats in the documentation: http://pandas.pydata.org/pandas-docs/stable/indexing.html#indexing-view-versus-copy\n",
      "  \n"
     ]
    }
   ],
   "source": [
    "# Load csv here\n",
    "df = pd.read_csv('spectral_slices.csv')\n",
    "\n",
    "def label_encoder(df):\n",
    "    codes = {}\n",
    "    i = 0\n",
    "    for label in df.label.drop_duplicates():\n",
    "        codes['label'] = i\n",
    "        df.label[df.label == label] = i\n",
    "        i += 1\n",
    "    return df\n",
    "\n",
    "df = label_encoder(df)    \n",
    "\n",
    "# Get even class representation\n",
    "sample_size = 400\n",
    "df = df.groupby('label').apply(lambda x: x.sample(sample_size))\n",
    "\n",
    "#Split in test and train:\n",
    "indeces = np.random.permutation(len(df))\n",
    "split = int(len(indeces) * 0.8)\n",
    "train_indeces = indeces[:split]\n",
    "test_indeces = indeces[split:]\n",
    "\n",
    "\n",
    "train = df.iloc[train_indeces]\n",
    "test = df.iloc[test_indeces]\n",
    "\n",
    "\n"
   ]
  },
  {
   "cell_type": "code",
   "execution_count": 5,
   "metadata": {
    "colab": {
     "base_uri": "https://localhost:8080/",
     "height": 238
    },
    "colab_type": "code",
    "executionInfo": {
     "elapsed": 2474,
     "status": "ok",
     "timestamp": 1549480607537,
     "user": {
      "displayName": "Tim Bauer",
      "photoUrl": "",
      "userId": "07155029197321677432"
     },
     "user_tz": -60
    },
    "id": "sqq_SRDwOUjg",
    "outputId": "974bb9c8-c5ee-49b2-86c5-e6412ce63063"
   },
   "outputs": [
    {
     "data": {
      "text/html": [
       "<div>\n",
       "<style scoped>\n",
       "    .dataframe tbody tr th:only-of-type {\n",
       "        vertical-align: middle;\n",
       "    }\n",
       "\n",
       "    .dataframe tbody tr th {\n",
       "        vertical-align: top;\n",
       "    }\n",
       "\n",
       "    .dataframe thead th {\n",
       "        text-align: right;\n",
       "    }\n",
       "</style>\n",
       "<table border=\"1\" class=\"dataframe\">\n",
       "  <thead>\n",
       "    <tr style=\"text-align: right;\">\n",
       "      <th></th>\n",
       "      <th></th>\n",
       "      <th>Unnamed: 0</th>\n",
       "      <th>label</th>\n",
       "      <th>path</th>\n",
       "    </tr>\n",
       "    <tr>\n",
       "      <th>label</th>\n",
       "      <th></th>\n",
       "      <th></th>\n",
       "      <th></th>\n",
       "      <th></th>\n",
       "    </tr>\n",
       "  </thead>\n",
       "  <tbody>\n",
       "    <tr>\n",
       "      <th rowspan=\"3\" valign=\"top\">1</th>\n",
       "      <th>2923</th>\n",
       "      <td>2923</td>\n",
       "      <td>1</td>\n",
       "      <td>spectral_slices/2924.png</td>\n",
       "    </tr>\n",
       "    <tr>\n",
       "      <th>2973</th>\n",
       "      <td>2973</td>\n",
       "      <td>1</td>\n",
       "      <td>spectral_slices/2974.png</td>\n",
       "    </tr>\n",
       "    <tr>\n",
       "      <th>2760</th>\n",
       "      <td>2760</td>\n",
       "      <td>1</td>\n",
       "      <td>spectral_slices/2761.png</td>\n",
       "    </tr>\n",
       "    <tr>\n",
       "      <th>2</th>\n",
       "      <th>2340</th>\n",
       "      <td>2340</td>\n",
       "      <td>2</td>\n",
       "      <td>spectral_slices/2341.png</td>\n",
       "    </tr>\n",
       "    <tr>\n",
       "      <th>3</th>\n",
       "      <th>1593</th>\n",
       "      <td>1593</td>\n",
       "      <td>3</td>\n",
       "      <td>spectral_slices/1594.png</td>\n",
       "    </tr>\n",
       "  </tbody>\n",
       "</table>\n",
       "</div>"
      ],
      "text/plain": [
       "            Unnamed: 0 label                      path\n",
       "label                                                 \n",
       "1     2923        2923     1  spectral_slices/2924.png\n",
       "      2973        2973     1  spectral_slices/2974.png\n",
       "      2760        2760     1  spectral_slices/2761.png\n",
       "2     2340        2340     2  spectral_slices/2341.png\n",
       "3     1593        1593     3  spectral_slices/1594.png"
      ]
     },
     "execution_count": 5,
     "metadata": {
      "tags": []
     },
     "output_type": "execute_result"
    }
   ],
   "source": [
    "train.head()"
   ]
  },
  {
   "cell_type": "code",
   "execution_count": 6,
   "metadata": {
    "colab": {
     "base_uri": "https://localhost:8080/",
     "height": 86
    },
    "colab_type": "code",
    "executionInfo": {
     "elapsed": 892,
     "status": "ok",
     "timestamp": 1549480612847,
     "user": {
      "displayName": "Tim Bauer",
      "photoUrl": "",
      "userId": "07155029197321677432"
     },
     "user_tz": -60
    },
    "id": "OHhVPGYXqf9q",
    "outputId": "8bd1c528-544e-4d21-e975-865e5f49f60d"
   },
   "outputs": [
    {
     "name": "stdout",
     "output_type": "stream",
     "text": [
      "input shape:\n",
      "torch.Size([1, 1, 1025, 200])\n",
      "output shape:\n",
      "torch.Size([1, 4])\n"
     ]
    }
   ],
   "source": [
    "classes = 4\n",
    "class SimpleCNN(nn.Module):\n",
    "    def __init__(self):\n",
    "        super(SimpleCNN, self).__init__()\n",
    "    \n",
    "        \n",
    "        self.layer1 = nn.Sequential(\n",
    "            nn.Conv2d(1, 16, kernel_size=3, stride=1),\n",
    "            nn.BatchNorm2d(16),\n",
    "            nn.ReLU(),\n",
    "            nn.MaxPool2d(kernel_size=2, stride=2))\n",
    "\n",
    "        \n",
    "        self.layer2 = nn.Sequential(\n",
    "            nn.Conv2d(16, 32, kernel_size=3, stride=1),\n",
    "            nn.BatchNorm2d(32),\n",
    "            nn.ReLU(),\n",
    "            nn.MaxPool2d(kernel_size=2, stride=2))\n",
    "        \n",
    "        self.layer3 = nn.Sequential(\n",
    "            nn.Conv2d(32, 64, kernel_size=3, stride=1),\n",
    "            nn.BatchNorm2d(64),\n",
    "            nn.ReLU(),\n",
    "            nn.MaxPool2d(kernel_size=2, stride=2))\n",
    "        \n",
    "        self.layer4 = nn.Sequential(\n",
    "            nn.Conv2d(64, 128, kernel_size=3, stride=1),\n",
    "            nn.BatchNorm2d(128),\n",
    "            nn.ReLU(),\n",
    "            nn.MaxPool2d(kernel_size=2, stride=2))\n",
    "        \n",
    "        self.fc = nn.Linear(128 * 62 *10, classes)\n",
    "\n",
    "    def forward(self, x):\n",
    "        out = self.layer1(x)\n",
    "        #print(out.shape)\n",
    "        out = self.layer2(out)\n",
    "        #print(out.shape)\n",
    "        out = self.layer3(out)\n",
    "        #print(out.shape)\n",
    "        out = self.layer4(out)\n",
    "        #print(out.shape)\n",
    "\n",
    "        out = out.reshape(out.size(0), -1)\n",
    "        #print(out.shape)\n",
    "\n",
    "        out = self.fc(out)\n",
    "        return out\n",
    "    \n",
    "# Always check your model are you able to make a forward pass and shapes match your expectations?\n",
    "image = torch.randn(1, 1, 1025, 200)\n",
    "cnn = SimpleCNN()\n",
    "output = cnn(image)\n",
    "print(\"input shape:\")\n",
    "print(image.shape)\n",
    "print(\"output shape:\")\n",
    "print(output.shape)"
   ]
  },
  {
   "cell_type": "code",
   "execution_count": 7,
   "metadata": {
    "colab": {
     "base_uri": "https://localhost:8080/",
     "height": 34
    },
    "colab_type": "code",
    "executionInfo": {
     "elapsed": 4037,
     "status": "ok",
     "timestamp": 1549480618806,
     "user": {
      "displayName": "Tim Bauer",
      "photoUrl": "",
      "userId": "07155029197321677432"
     },
     "user_tz": -60
    },
    "id": "k_4_X6V-qf9v",
    "outputId": "2433ff6f-1ec6-4d70-efa5-97a11fe6b4ee"
   },
   "outputs": [
    {
     "data": {
      "text/plain": [
       "tensor(1.6406)"
      ]
     },
     "execution_count": 7,
     "metadata": {
      "tags": []
     },
     "output_type": "execute_result"
    }
   ],
   "source": [
    "LR= 0.001\n",
    "BATCH_SIZE = 64\n",
    "\n",
    "\n",
    "cnn = SimpleCNN()\n",
    "\n",
    "OPTIMIZER = 'Adam' # one of ['ASGD','Adadelta', 'Adagrad','Adam', 'Adamax','LBFGS', 'RMSprop','Rprop','SGD',SparseAdam']\n",
    "optimizer = getattr(torch.optim, OPTIMIZER)(cnn.parameters(), lr=0.001)\n",
    "criterion = nn.CrossEntropyLoss()\n",
    "\n",
    "cnn.to(DEVICE)\n",
    "\n",
    "train_ds = SpectralDataset(train)\n",
    "test_ds = SpectralDataset(test)\n",
    "\n",
    "# Create dataset loader\n",
    "train_dl = DataLoader(train_ds, batch_size=BATCH_SIZE)\n",
    "test_dl = DataLoader(test_ds, batch_size=BATCH_SIZE)\n",
    "\n",
    "# Lets try to use the criterion with dummy data\n",
    "yp = torch.randn(BATCH_SIZE, 4)\n",
    "yt = torch.randint(4, (BATCH_SIZE,))\n",
    "criterion(yp, yt.long())\n"
   ]
  },
  {
   "cell_type": "code",
   "execution_count": 8,
   "metadata": {
    "colab": {
     "base_uri": "https://localhost:8080/",
     "height": 34
    },
    "colab_type": "code",
    "executionInfo": {
     "elapsed": 1480,
     "status": "ok",
     "timestamp": 1549480618812,
     "user": {
      "displayName": "Tim Bauer",
      "photoUrl": "",
      "userId": "07155029197321677432"
     },
     "user_tz": -60
    },
    "id": "OIlYC4gUKQCe",
    "outputId": "b079696c-66bd-425a-c32d-9ccfe816b78f"
   },
   "outputs": [
    {
     "data": {
      "text/plain": [
       "1"
      ]
     },
     "execution_count": 8,
     "metadata": {
      "tags": []
     },
     "output_type": "execute_result"
    }
   ],
   "source": [
    "train_ds[0][1]"
   ]
  },
  {
   "cell_type": "code",
   "execution_count": 0,
   "metadata": {
    "colab": {
     "base_uri": "https://localhost:8080/",
     "height": 34
    },
    "colab_type": "code",
    "id": "Mgf6aKNdKM6G",
    "outputId": "30565845-1319-44b7-f84d-7fe542106bf7"
   },
   "outputs": [
    {
     "name": "stdout",
     "output_type": "stream",
     "text": [
      "Begin training...\n"
     ]
    }
   ],
   "source": [
    "###############################################################################\n",
    "def evaluate_model(model, test_loader, print_info=False):\n",
    "    with torch.no_grad():\n",
    "        model.eval()\n",
    "        collect_results = []\n",
    "        collect_target = []\n",
    "        for batch in test_loader:\n",
    "            X, y = batch\n",
    "            X = X.to(DEVICE)\n",
    "            y = y.to(DEVICE).detach().cpu().numpy()\n",
    "            pred = cnn(X)\n",
    "            collect_results.append(F.softmax(pred).detach().cpu().numpy())\n",
    "            collect_target.append(y) \n",
    "    \n",
    "        preds_proba = np.concatenate(collect_results)\n",
    "        preds = preds_proba.argmax(axis=1)\n",
    "\n",
    "        targets = np.concatenate(collect_target)\n",
    "        \n",
    "        ll = log_loss(targets, preds_proba)\n",
    "        acc = accuracy_score(targets, preds)\n",
    "        if print_info:\n",
    "            print(\"test log-loss: {}\".format(ll))\n",
    "            print(\"overall accuracy:  {}\".format(acc))\n",
    "            #print(classification_report(targets, preds))\n",
    "        model.train()\n",
    "        return ll, acc\n",
    "    \n",
    "    \n",
    "            \n",
    "collect_metrics = []\n",
    "collect_loss = []\n",
    "print('Begin training...')\n",
    "for epoch in range(20):\n",
    "    lossacc = 0\n",
    "    for i, batch in enumerate(train_dl):\n",
    "        #print(f'Batch number {i}')\n",
    "        optimizer.zero_grad()\n",
    "        X, y = batch\n",
    "        X = X.to(DEVICE)\n",
    "        y = y.to(DEVICE)\n",
    "        y_pred = cnn(X)\n",
    "        \n",
    "        loss = criterion(y_pred, y)\n",
    "        #print(loss)\n",
    "        loss.backward()\n",
    "        optimizer.step()   \n",
    "        collect_loss.append(float(loss.detach().cpu().numpy()))  \n",
    "        \n",
    "    lltest, acctest = evaluate_model(cnn, test_dl)\n",
    "    lltrain, acctrain = evaluate_model(cnn, train_dl)\n",
    "    collect_metrics.append([lltest, lltrain, acctest, acctrain])\n",
    "    print(\"test: loss: {}  acc: {}\".format(lltest, acctest))\n",
    "    print(\"train: loss: {}  acc: {}\".format(lltrain, acctrain))"
   ]
  },
  {
   "cell_type": "code",
   "execution_count": 18,
   "metadata": {
    "colab": {
     "base_uri": "https://localhost:8080/",
     "height": 69
    },
    "colab_type": "code",
    "executionInfo": {
     "elapsed": 634,
     "status": "ok",
     "timestamp": 1549477456972,
     "user": {
      "displayName": "Tim Bauer",
      "photoUrl": "",
      "userId": "07155029197321677432"
     },
     "user_tz": -60
    },
    "id": "Dxd5hImXCuAS",
    "outputId": "97d1567a-173a-4b8c-9d40-ad5391c8eb77"
   },
   "outputs": [
    {
     "name": "stdout",
     "output_type": "stream",
     "text": [
      "tensor([[ 11.7576,   1.3691, -20.6693,   0.1760]], device='cuda:0',\n",
      "       grad_fn=<AddmmBackward>)\n",
      "0\n"
     ]
    }
   ],
   "source": [
    "print(cnn(test_ds[22][0].unsqueeze(dim = 0).cuda()))\n",
    "print(test_ds[22][1])"
   ]
  },
  {
   "cell_type": "code",
   "execution_count": 7,
   "metadata": {
    "colab": {
     "base_uri": "https://localhost:8080/",
     "height": 225
    },
    "colab_type": "code",
    "executionInfo": {
     "elapsed": 13342,
     "status": "ok",
     "timestamp": 1549474313243,
     "user": {
      "displayName": "Tim Bauer",
      "photoUrl": "",
      "userId": "07155029197321677432"
     },
     "user_tz": -60
    },
    "id": "LMUH0kKn1uGd",
    "outputId": "d617262f-f93b-4ce1-eeff-12005b038dd4"
   },
   "outputs": [
    {
     "name": "stdout",
     "output_type": "stream",
     "text": [
      "Collecting gputil\n",
      "  Downloading https://files.pythonhosted.org/packages/ed/0e/5c61eedde9f6c87713e89d794f01e378cfd9565847d4576fa627d758c554/GPUtil-1.4.0.tar.gz\n",
      "Building wheels for collected packages: gputil\n",
      "  Building wheel for gputil (setup.py) ... \u001b[?25ldone\n",
      "\u001b[?25h  Stored in directory: /root/.cache/pip/wheels/3d/77/07/80562de4bb0786e5ea186911a2c831fdd0018bda69beab71fd\n",
      "Successfully built gputil\n",
      "Installing collected packages: gputil\n",
      "Successfully installed gputil-1.4.0\n",
      "Requirement already satisfied: psutil in /usr/local/lib/python3.6/dist-packages (5.4.8)\n",
      "Requirement already satisfied: humanize in /usr/local/lib/python3.6/dist-packages (0.5.1)\n",
      "Gen RAM Free: 11.5 GB  | Proc size: 2.1 GB\n",
      "GPU RAM Free: 4069MB | Used: 7372MB | Util  64% | Total 11441MB\n"
     ]
    }
   ],
   "source": [
    "# memory footprint support libraries/code\n",
    "!ln -sf /opt/bin/nvidia-smi /usr/bin/nvidia-smi\n",
    "!pip install gputil\n",
    "!pip install psutil\n",
    "!pip install humanize\n",
    "import psutil\n",
    "import humanize\n",
    "import os\n",
    "import GPUtil as GPU\n",
    "GPUs = GPU.getGPUs()\n",
    "# XXX: only one GPU on Colab and isn’t guaranteed\n",
    "gpu = GPUs[0]\n",
    "def printm():\n",
    " process = psutil.Process(os.getpid())\n",
    " print(\"Gen RAM Free: \" + humanize.naturalsize( psutil.virtual_memory().available ), \" | Proc size: \" + humanize.naturalsize( process.memory_info().rss))\n",
    " print(\"GPU RAM Free: {0:.0f}MB | Used: {1:.0f}MB | Util {2:3.0f}% | Total {3:.0f}MB\".format(gpu.memoryFree, gpu.memoryUsed, gpu.memoryUtil*100, gpu.memoryTotal))\n",
    "printm()"
   ]
  }
 ],
 "metadata": {
  "accelerator": "GPU",
  "colab": {
   "collapsed_sections": [],
   "name": "Colab_test.ipynb",
   "provenance": [],
   "version": "0.3.2"
  },
  "kernelspec": {
   "display_name": "Python 3",
   "language": "python",
   "name": "python3"
  },
  "language_info": {
   "codemirror_mode": {
    "name": "ipython",
    "version": 3
   },
   "file_extension": ".py",
   "mimetype": "text/x-python",
   "name": "python",
   "nbconvert_exporter": "python",
   "pygments_lexer": "ipython3",
   "version": "3.7.1"
  }
 },
 "nbformat": 4,
 "nbformat_minor": 1
}
